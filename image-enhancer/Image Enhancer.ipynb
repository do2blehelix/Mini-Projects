{
 "cells": [
  {
   "cell_type": "code",
   "execution_count": 4,
   "id": "115d1f08-1c0d-4f08-973b-17f36c3536a6",
   "metadata": {},
   "outputs": [],
   "source": [
    "input = 'C:/Users/ayanb/Desktop/aa.png'\n",
    "\n",
    "output = \"C:/Users/ayanb/Desktop/upscaled.png\""
   ]
  },
  {
   "cell_type": "code",
   "execution_count": 5,
   "id": "112c8bfc-af06-4f73-bab0-354a11515fd7",
   "metadata": {},
   "outputs": [
    {
     "data": {
      "text/plain": [
       "True"
      ]
     },
     "execution_count": 5,
     "metadata": {},
     "output_type": "execute_result"
    }
   ],
   "source": [
    "import cv2\n",
    "from cv2 import dnn_superres\n",
    "\n",
    "# Create an SR object\n",
    "sr = dnn_superres.DnnSuperResImpl_create()\n",
    "\n",
    "# Read image\n",
    "image = cv2.imread(input)\n",
    "\n",
    "# Read the desired model\n",
    "path = \"EDSR_x4.pb\"\n",
    "sr.readModel(path)\n",
    "\n",
    "# Set the desired model and scale to get correct pre- and post-processing\n",
    "sr.setModel(\"edsr\", 3)\n",
    "\n",
    "# Upscale the image\n",
    "result = sr.upsample(image)\n",
    "\n",
    "# Save the image\n",
    "cv2.imwrite(output, result)"
   ]
  },
  {
   "cell_type": "code",
   "execution_count": null,
   "id": "743139e9-7ab9-484b-adbe-4d71517717d9",
   "metadata": {},
   "outputs": [],
   "source": []
  }
 ],
 "metadata": {
  "kernelspec": {
   "display_name": "Python 3 (ipykernel)",
   "language": "python",
   "name": "python3"
  },
  "language_info": {
   "codemirror_mode": {
    "name": "ipython",
    "version": 3
   },
   "file_extension": ".py",
   "mimetype": "text/x-python",
   "name": "python",
   "nbconvert_exporter": "python",
   "pygments_lexer": "ipython3",
   "version": "3.9.7"
  }
 },
 "nbformat": 4,
 "nbformat_minor": 5
}
