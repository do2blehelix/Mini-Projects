{
 "cells": [
  {
   "cell_type": "code",
   "execution_count": 3,
   "id": "eedd4f35",
   "metadata": {},
   "outputs": [],
   "source": [
    "import requests\n",
    "\n",
    "from selenium import webdriver\n",
    "from bs4 import BeautifulSoup\n",
    "import pandas as pd"
   ]
  },
  {
   "cell_type": "code",
   "execution_count": 2,
   "id": "995bc3a9",
   "metadata": {},
   "outputs": [],
   "source": [
    "# driver = webdriver.Chrome(\"/usr/lib/chromium-browser/chromedriver\")"
   ]
  },
  {
   "cell_type": "code",
   "execution_count": null,
   "id": "184ec245",
   "metadata": {},
   "outputs": [],
   "source": [
    "URL = \"https://www.makemytrip.com/hotels/hotel-listing/?checkin=09152021&city=RGXZS&checkout=09162021&roomStayQualifier=2e0e&locusId=RGXZS&country=IN&locusType=region&searchText=Chikmagalur%20District,%20Karnataka,%20India&visitorId=224adefb-806a-4a04-8281-6f430319796d&regionNearByExp=3\"\n",
    "page = requests.get(URL)\n",
    "page"
   ]
  },
  {
   "cell_type": "code",
   "execution_count": null,
   "id": "87d05926",
   "metadata": {},
   "outputs": [],
   "source": [
    "soup = BeautifulSoup(page.text, \"html.parser\")"
   ]
  },
  {
   "cell_type": "code",
   "execution_count": null,
   "id": "3389e5c8",
   "metadata": {},
   "outputs": [],
   "source": [
    "soup.find_all(\"span\", class_=\"sr-hotel__name\")"
   ]
  },
  {
   "cell_type": "code",
   "execution_count": null,
   "id": "5c5aadd7",
   "metadata": {
    "scrolled": false
   },
   "outputs": [],
   "source": [
    "soup"
   ]
  },
  {
   "cell_type": "code",
   "execution_count": null,
   "id": "8f6ef178",
   "metadata": {},
   "outputs": [],
   "source": []
  },
  {
   "cell_type": "code",
   "execution_count": null,
   "id": "96d53427",
   "metadata": {},
   "outputs": [],
   "source": []
  },
  {
   "cell_type": "code",
   "execution_count": null,
   "id": "281e7a31",
   "metadata": {},
   "outputs": [],
   "source": []
  },
  {
   "cell_type": "code",
   "execution_count": null,
   "id": "11b67ae0",
   "metadata": {},
   "outputs": [],
   "source": [
    "soup.find_all(\"a\", class_='link-network-detail collapse')"
   ]
  },
  {
   "cell_type": "code",
   "execution_count": null,
   "id": "4f8ffce4",
   "metadata": {},
   "outputs": [],
   "source": [
    "soup.find(\"a\", class_='link-network-detail collapse').string"
   ]
  },
  {
   "cell_type": "markdown",
   "id": "9d371b94",
   "metadata": {},
   "source": [
    "---"
   ]
  },
  {
   "cell_type": "code",
   "execution_count": null,
   "id": "37cf36cf",
   "metadata": {
    "scrolled": true
   },
   "outputs": [],
   "source": [
    "soup.find_all('td', class_=\"nfo\", attrs={'data-spec':'weight'})"
   ]
  },
  {
   "cell_type": "code",
   "execution_count": null,
   "id": "0b79e219",
   "metadata": {},
   "outputs": [],
   "source": []
  },
  {
   "cell_type": "code",
   "execution_count": null,
   "id": "34043a7d",
   "metadata": {},
   "outputs": [],
   "source": []
  },
  {
   "cell_type": "code",
   "execution_count": null,
   "id": "a05ea972",
   "metadata": {},
   "outputs": [],
   "source": [
    "URL = \"https://realpython.github.io/fake-jobs/\"\n",
    "page = requests.get(URL)\n",
    "\n",
    "soup = BeautifulSoup(page.content, \"html.parser\")"
   ]
  },
  {
   "cell_type": "code",
   "execution_count": null,
   "id": "6ed8430c",
   "metadata": {},
   "outputs": [],
   "source": [
    "soup"
   ]
  },
  {
   "cell_type": "code",
   "execution_count": null,
   "id": "4c374c8d",
   "metadata": {},
   "outputs": [],
   "source": [
    "results = soup.find(id=\"ResultsContainer\")"
   ]
  },
  {
   "cell_type": "code",
   "execution_count": null,
   "id": "d51f1470",
   "metadata": {},
   "outputs": [],
   "source": [
    "print(results.prettify())"
   ]
  },
  {
   "cell_type": "code",
   "execution_count": null,
   "id": "d410d130",
   "metadata": {},
   "outputs": [],
   "source": [
    "job_elements = results.find_all(\"div\", class_=\"card-content\")"
   ]
  },
  {
   "cell_type": "code",
   "execution_count": null,
   "id": "07f92be8",
   "metadata": {},
   "outputs": [],
   "source": [
    "for job_element in job_elements:\n",
    "    print(job_element, end=\"\\n\"*2)"
   ]
  },
  {
   "cell_type": "code",
   "execution_count": null,
   "id": "d8990e93",
   "metadata": {},
   "outputs": [],
   "source": [
    "for job_element in job_elements:\n",
    "    title_element = job_element.find(\"h2\", class_=\"title\")\n",
    "    company_element = job_element.find(\"h3\", class_=\"company\")\n",
    "    location_element = job_element.find(\"p\", class_=\"location\")\n",
    "    print(title_element)\n",
    "    print(company_element)\n",
    "    print(location_element)\n",
    "    print()"
   ]
  },
  {
   "cell_type": "code",
   "execution_count": null,
   "id": "e26d7027",
   "metadata": {},
   "outputs": [],
   "source": [
    "soup.findAll('div')"
   ]
  },
  {
   "cell_type": "code",
   "execution_count": null,
   "id": "8177f568",
   "metadata": {},
   "outputs": [],
   "source": [
    "import explainerdashboard"
   ]
  },
  {
   "cell_type": "code",
   "execution_count": null,
   "id": "78ca11fd",
   "metadata": {},
   "outputs": [],
   "source": [
    "explainerdashboard.__version__"
   ]
  },
  {
   "cell_type": "code",
   "execution_count": null,
   "id": "0cc3b68e",
   "metadata": {},
   "outputs": [],
   "source": []
  }
 ],
 "metadata": {
  "kernelspec": {
   "display_name": "Python 3 (ipykernel)",
   "language": "python",
   "name": "python3"
  },
  "language_info": {
   "codemirror_mode": {
    "name": "ipython",
    "version": 3
   },
   "file_extension": ".py",
   "mimetype": "text/x-python",
   "name": "python",
   "nbconvert_exporter": "python",
   "pygments_lexer": "ipython3",
   "version": "3.9.6"
  }
 },
 "nbformat": 4,
 "nbformat_minor": 5
}
